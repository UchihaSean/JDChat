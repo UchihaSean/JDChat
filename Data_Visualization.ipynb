{
 "cells": [
  {
   "cell_type": "code",
   "execution_count": 14,
   "metadata": {},
   "outputs": [],
   "source": [
    "import csv\n",
    "import numpy as np\n",
    "import random\n",
    "import matplotlib.pyplot as plt\n",
    "%matplotlib inline"
   ]
  },
  {
   "cell_type": "code",
   "execution_count": 15,
   "metadata": {},
   "outputs": [],
   "source": [
    "def read_pred_data(file_name):\n",
    "    \"\"\"\n",
    "    Read file with preprocessed data\n",
    "    \"\"\"\n",
    "    quetions, pred_questions, answers, pred_answers = [], [], [], []\n",
    "    with open(file_name, 'r') as csvfile:\n",
    "        file_info = csv.reader(csvfile)\n",
    "        # Store the information\n",
    "        for i, line in enumerate(file_info):\n",
    "            if i == 0: continue\n",
    "            quetions.append(line[0].strip().decode(\"utf-8\"))\n",
    "            pred_questions.append(line[1].strip().decode(\"utf-8\").split(\" \"))\n",
    "            answers.append(line[2].strip().decode(\"utf-8\"))\n",
    "            pred_answers.append(line[3].strip().decode(\"utf-8\").split(\" \"))\n",
    "\n",
    "            # Counter for test\n",
    "            if i > 100000: break\n",
    "\n",
    "    return quetions, pred_questions, answers, pred_answers\n"
   ]
  },
  {
   "cell_type": "code",
   "execution_count": 16,
   "metadata": {},
   "outputs": [
    {
     "name": "stdout",
     "output_type": "stream",
     "text": [
      "loading data....\n"
     ]
    }
   ],
   "source": [
    "print(\"loading data....\")"
   ]
  },
  {
   "cell_type": "code",
   "execution_count": 17,
   "metadata": {},
   "outputs": [],
   "source": [
    "_, questions, _, answers = read_pred_data(\"Data/simple_pred_QA-pair.csv\")"
   ]
  },
  {
   "cell_type": "code",
   "execution_count": 18,
   "metadata": {},
   "outputs": [],
   "source": [
    "q_len = [len(s) for s in questions]\n",
    "a_len = [len(s) for s in answers]"
   ]
  },
  {
   "cell_type": "code",
   "execution_count": 19,
   "metadata": {},
   "outputs": [
    {
     "name": "stdout",
     "output_type": "stream",
     "text": [
      "9.805981940180597 1 93\n"
     ]
    }
   ],
   "source": [
    "print np.mean(q_len), np.min(q_len), np.max(q_len)"
   ]
  },
  {
   "cell_type": "code",
   "execution_count": 20,
   "metadata": {},
   "outputs": [
    {
     "name": "stdout",
     "output_type": "stream",
     "text": [
      "9.001629983700163 1 428\n"
     ]
    }
   ],
   "source": [
    "print np.mean(a_len), np.min(a_len), np.max(a_len)"
   ]
  },
  {
   "cell_type": "code",
   "execution_count": 21,
   "metadata": {},
   "outputs": [
    {
     "data": {
      "text/plain": [
       "(array([1.4049e+04, 3.7287e+04, 2.1800e+04, 9.8730e+03, 5.3790e+03,\n",
       "        3.4210e+03, 2.1490e+03, 1.4400e+03, 9.7000e+02, 7.2500e+02,\n",
       "        6.5000e+02, 4.5200e+02, 3.9200e+02, 2.5200e+02, 2.1700e+02,\n",
       "        1.9600e+02, 1.2700e+02, 7.7000e+01, 1.0300e+02, 5.8000e+01,\n",
       "        6.5000e+01, 5.0000e+01, 5.0000e+01, 5.1000e+01, 4.9000e+01,\n",
       "        3.8000e+01, 3.2000e+01, 2.3000e+01, 2.0000e+01, 6.0000e+00]),\n",
       " array([ 1.        ,  4.06666667,  7.13333333, 10.2       , 13.26666667,\n",
       "        16.33333333, 19.4       , 22.46666667, 25.53333333, 28.6       ,\n",
       "        31.66666667, 34.73333333, 37.8       , 40.86666667, 43.93333333,\n",
       "        47.        , 50.06666667, 53.13333333, 56.2       , 59.26666667,\n",
       "        62.33333333, 65.4       , 68.46666667, 71.53333333, 74.6       ,\n",
       "        77.66666667, 80.73333333, 83.8       , 86.86666667, 89.93333333,\n",
       "        93.        ]),\n",
       " <a list of 30 Patch objects>)"
      ]
     },
     "execution_count": 21,
     "metadata": {},
     "output_type": "execute_result"
    },
    {
     "data": {
      "image/png": "[encoded data removed]",
      "text/plain": [
       "<matplotlib.figure.Figure at 0x109f51d90>"
      ]
     },
     "metadata": {},
     "output_type": "display_data"
    }
   ],
   "source": [
    "plt.hist(q_len, bins=30)"
   ]
  },
  {
   "cell_type": "code",
   "execution_count": null,
   "metadata": {},
   "outputs": [],
   "source": []
  },
  {
   "cell_type": "code",
   "execution_count": 22,
   "metadata": {
    "scrolled": true
   },
   "outputs": [
    {
     "data": {
      "text/plain": [
       "(array([8.4817e+04, 1.1345e+04, 2.4250e+03, 7.9400e+02, 3.0100e+02,\n",
       "        1.2500e+02, 7.9000e+01, 3.9000e+01, 1.8000e+01, 1.1000e+01,\n",
       "        1.2000e+01, 5.0000e+00, 1.1000e+01, 5.0000e+00, 2.0000e+00,\n",
       "        2.0000e+00, 2.0000e+00, 2.0000e+00, 1.0000e+00, 0.0000e+00,\n",
       "        0.0000e+00, 0.0000e+00, 0.0000e+00, 1.0000e+00, 2.0000e+00,\n",
       "        0.0000e+00, 1.0000e+00, 0.0000e+00, 0.0000e+00, 1.0000e+00]),\n",
       " array([  1.        ,  15.23333333,  29.46666667,  43.7       ,\n",
       "         57.93333333,  72.16666667,  86.4       , 100.63333333,\n",
       "        114.86666667, 129.1       , 143.33333333, 157.56666667,\n",
       "        171.8       , 186.03333333, 200.26666667, 214.5       ,\n",
       "        228.73333333, 242.96666667, 257.2       , 271.43333333,\n",
       "        285.66666667, 299.9       , 314.13333333, 328.36666667,\n",
       "        342.6       , 356.83333333, 371.06666667, 385.3       ,\n",
       "        399.53333333, 413.76666667, 428.        ]),\n",
       " <a list of 30 Patch objects>)"
      ]
     },
     "execution_count": 22,
     "metadata": {},
     "output_type": "execute_result"
    },
    {
     "data": {
      "image/png": "[encoded data removed]",
      "text/plain": [
       "<matplotlib.figure.Figure at 0x10feee8d0>"
      ]
     },
     "metadata": {},
     "output_type": "display_data"
    }
   ],
   "source": [
    "plt.hist(a_len, bins=30, color = 'steelblue')"
   ]
  },
  {
   "cell_type": "code",
   "execution_count": null,
   "metadata": {},
   "outputs": [],
   "source": []
  }
 ],
 "metadata": {
  "kernelspec": {
   "display_name": "Python 2",
   "language": "python",
   "name": "python2"
  },
  "language_info": {
   "codemirror_mode": {
    "name": "ipython",
    "version": 2
   },
   "file_extension": ".py",
   "mimetype": "text/x-python",
   "name": "python",
   "nbconvert_exporter": "python",
   "pygments_lexer": "ipython2",
   "version": "2.7.10"
  }
 },
 "nbformat": 4,
 "nbformat_minor": 2
}
